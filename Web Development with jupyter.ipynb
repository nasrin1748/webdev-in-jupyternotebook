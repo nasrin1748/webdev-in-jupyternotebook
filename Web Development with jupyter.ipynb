{
 "cells": [
  {
   "cell_type": "markdown",
   "id": "e0341e1c",
   "metadata": {
    "extensions": {
     "jupyter_dashboards": {
      "version": 1,
      "views": {
       "default_view": {
        "col": 0,
        "height": 3,
        "row": 0,
        "width": 12
       }
      }
     }
    }
   },
   "source": [
    "# Make table from an image without any grid lines and border from scanned image of document"
   ]
  },
  {
   "cell_type": "raw",
   "id": "49276326",
   "metadata": {
    "extensions": {
     "jupyter_dashboards": {
      "version": 1,
      "views": {
       "default_view": {
        "hidden": true
       }
      }
     }
    }
   },
   "source": [
    "Objective   :  Build a web application to solve multiple problems:\n",
    "\n",
    "problem1    :  Make table from an image without any grid lines and border from scanned image of document.\n",
    "explaination:  When you use any predefined text extract package directly you will end up a table which doesn't have the table   columns   properly formatted and a lot of cleansing is needed to get the columns in proper place.\n",
    "solution    :  This web application will solve the problem.We will crop the columns and then extract text accordingly so we may not need to cleans the data file. \n",
    "problem2    :  Getting multiple image columns into one table.\n",
    "explaination:  There might be a requirement where you might need to extract multiple image data into a single table.In general you will be extract the data from different images seperately and probably you might be finding a way to join them which is time taking.\n",
    "solution    :  Upload multiple images and crop all the columns from different tables you might need for your table and the table is ready.\n",
    "problem3    :  Manual cropping is time taking.\n",
    "solution    :  Intractive cropping.\n",
    "problem4    :  Tried Web Development with jupyter notebook.Its mostly for data visualization and data preprocessing."
   ]
  },
  {
   "cell_type": "code",
   "execution_count": 5,
   "id": "92948d8d",
   "metadata": {
    "extensions": {
     "jupyter_dashboards": {
      "version": 1,
      "views": {
       "default_view": {
        "col": 0,
        "height": 15,
        "row": 3,
        "width": 12
       }
      }
     }
    }
   },
   "outputs": [
    {
     "data": {
      "text/html": [
       "\n",
       "        <iframe\n",
       "            width=\"700\"\n",
       "            height=\"600\"\n",
       "            src=\"https://nasrin1748.github.io/htmlrepo/?bbox=-0.004017949104309083%2C51.47612752641776%2C0.00030577182769775396%2C51.478569861898606&layer=mapnik\"\n",
       "            frameborder=\"0\"\n",
       "            allowfullscreen\n",
       "            \n",
       "        ></iframe>\n",
       "        "
      ],
      "text/plain": [
       "<IPython.lib.display.IFrame at 0x1babc401930>"
      ]
     },
     "execution_count": 5,
     "metadata": {},
     "output_type": "execute_result"
    }
   ],
   "source": [
    "from IPython.display import IFrame\n",
    "\n",
    "IFrame(src=\"https://nasrin1748.github.io/htmlrepo/?bbox=-0.004017949104309083%2C51.47612752641776%2C0.00030577182769775396%2C51.478569861898606&layer=mapnik\",width=700,height = 600)\n"
   ]
  },
  {
   "cell_type": "code",
   "execution_count": null,
   "id": "39cdbc4c",
   "metadata": {
    "extensions": {
     "jupyter_dashboards": {
      "version": 1,
      "views": {
       "default_view": {
        "col": 0,
        "height": 13,
        "row": 18,
        "width": 12
       }
      }
     }
    }
   },
   "outputs": [],
   "source": [
    "from IPython.display import display, Markdown, clear_output,IFrame\n",
    "import pytesseract\n",
    "pytesseract.pytesseract.tesseract_cmd = r\"Tesseract-OCR\\tesseract.exe\"\n",
    "# widget packages\n",
    "import cv2\n",
    "import ipywidgets as widgets\n",
    "button = widgets.Button(description='My Button')\n",
    "out = widgets.Output()\n",
    "list_img = []\n",
    "def fun_data(x):\n",
    "                image = cv2.imread(list_img[x],0)\n",
    "                thresh = cv2.threshold(image, 0, 255, cv2.THRESH_BINARY_INV + cv2.THRESH_OTSU)[1]\n",
    "                data = pytesseract.image_to_string(thresh, lang='eng',config='--psm 6')\n",
    "                data = \"\\n\".join([ll.rstrip() for ll in data.splitlines() if ll.strip()])\n",
    "                data = data.split('\\n')\n",
    "                return data\n",
    "def on_button_clicked(_):\n",
    "      # \"linking function with output\"\n",
    "      with out:\n",
    "          import os\n",
    "          import pandas as pd\n",
    "          directory = f'C:\\\\Users\\\\{os.getlogin()}\\\\Downloads\\\\'\n",
    "          file_names = os.listdir(directory)\n",
    "          for file_name in file_names:\n",
    "                    if file_name.startswith(\"imagename\"):\n",
    "                        list_img.append(directory + file_name)\n",
    "          s = pd.Series(list_img)\n",
    "          s = s.to_dict()\n",
    "          new = ([fun_data(a) for a in s])\n",
    "          t = pd.DataFrame(new).T\n",
    "          #t.columns =['Name', 'Code', 'Age', 'Weight']\n",
    "          print(t)\n",
    "          # what happens when we press the button\n",
    "# linking button and function together using a button's method\n",
    "button.on_click(on_button_clicked)\n",
    "# displaying button and its output together\n",
    "widgets.VBox([button,out])\n"
   ]
  },
  {
   "cell_type": "markdown",
   "id": "9db9ba0f",
   "metadata": {
    "extensions": {
     "jupyter_dashboards": {
      "version": 1,
      "views": {
       "default_view": {
        "col": 0,
        "height": 2,
        "row": 33,
        "width": 12
       }
      }
     }
    }
   },
   "source": [
    "Sqlite database can be used for storage.Or Even we can connect to external database for storage."
   ]
  },
  {
   "cell_type": "code",
   "execution_count": 7,
   "id": "c648156a",
   "metadata": {
    "extensions": {
     "jupyter_dashboards": {
      "version": 1,
      "views": {
       "default_view": {
        "hidden": true
       }
      }
     }
    }
   },
   "outputs": [],
   "source": [
    "#widgets.IntSlider()\n",
    "\n",
    "#widgets.Text(value='Hello World!', disabled=True)\n",
    "\n"
   ]
  },
  {
   "cell_type": "code",
   "execution_count": 8,
   "id": "64b5eceb",
   "metadata": {
    "extensions": {
     "jupyter_dashboards": {
      "version": 1,
      "views": {
       "default_view": {
        "hidden": true
       }
      }
     }
    }
   },
   "outputs": [],
   "source": [
    "#from IPython.display import IFrame\n",
    "#display(HTML(filename = 'new3.html'))\n",
    "#IFrame(src='./new 2.html', width=700, height=600)"
   ]
  },
  {
   "cell_type": "code",
   "execution_count": 9,
   "id": "d1f33d00",
   "metadata": {
    "extensions": {
     "jupyter_dashboards": {
      "version": 1,
      "views": {
       "default_view": {
        "hidden": true
       }
      }
     }
    }
   },
   "outputs": [],
   "source": [
    "#import os\n",
    "#os.system('jupyter nbconvert --to html Untitled15.ipynb')"
   ]
  },
  {
   "cell_type": "code",
   "execution_count": null,
   "id": "ed820448",
   "metadata": {
    "extensions": {
     "jupyter_dashboards": {
      "version": 1,
      "views": {
       "default_view": {
        "hidden": true
       }
      }
     }
    }
   },
   "outputs": [],
   "source": []
  }
 ],
 "metadata": {
  "extensions": {
   "jupyter_dashboards": {
    "activeView": "default_view",
    "version": 1,
    "views": {
     "default_view": {
      "cellMargin": 10,
      "defaultCellHeight": 40,
      "maxColumns": 12,
      "name": "active_view",
      "type": "grid"
     }
    }
   }
  },
  "kernelspec": {
   "display_name": "Python 3 (ipykernel)",
   "language": "python",
   "name": "python3"
  },
  "language_info": {
   "codemirror_mode": {
    "name": "ipython",
    "version": 3
   },
   "file_extension": ".py",
   "mimetype": "text/x-python",
   "name": "python",
   "nbconvert_exporter": "python",
   "pygments_lexer": "ipython3",
   "version": "3.10.9"
  }
 },
 "nbformat": 4,
 "nbformat_minor": 5
}
